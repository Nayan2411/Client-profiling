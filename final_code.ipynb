{
 "cells": [
  {
   "cell_type": "code",
   "execution_count": null,
   "id": "b417d962",
   "metadata": {},
   "outputs": [],
   "source": [
    "import pandas as pd\n",
    "import numpy as np\n",
    "import matplotlib as mpl\n",
    "import matplotlib.pyplot as plt\n",
    "import seaborn as sns\n",
    "import datetime, nltk, warnings\n",
    "import matplotlib.cm as cm\n",
    "import itertools\n",
    "from pathlib import Path\n",
    "from sklearn.preprocessing import StandardScaler\n",
    "from sklearn.cluster import KMeans\n",
    "from sklearn.metrics import silhouette_samples, silhouette_score\n",
    "from sklearn import preprocessing, model_selection, metrics, feature_selection\n",
    "from sklearn.model_selection import GridSearchCV, learning_curve\n",
    "from sklearn.svm import SVC\n",
    "from sklearn.metrics import confusion_matrix\n",
    "from sklearn import neighbors, linear_model, svm, tree, ensemble\n",
    "from wordcloud import WordCloud, STOPWORDS\n",
    "from sklearn.ensemble import AdaBoostClassifier\n",
    "from sklearn.decomposition import PCA\n",
    "from IPython.display import display, HTML\n",
    "import plotly.graph_objs as go\n",
    "from plotly.offline import init_notebook_mode,iplot\n",
    "import plotly.express as px\n",
    "init_notebook_mode(connected=True)\n",
    "warnings.filterwarnings(\"ignore\")\n",
    "plt.rcParams[\"patch.force_edgecolor\"] = True\n",
    "plt.style.use('fivethirtyeight')\n",
    "mpl.rc('patch', edgecolor = 'dimgray', linewidth=1)\n",
    "%matplotlib inline"
   ]
  },
  {
   "cell_type": "code",
   "execution_count": null,
   "id": "91fbc0ff",
   "metadata": {},
   "outputs": [],
   "source": [
    "sav = pd.read_csv(\"downloads/user_profiling_project/sav.csv\", sep=\",\")\n",
    "product = pd.read_csv(\"downloads/user_profiling_project/product.csv\", sep=\",\")\n",
    "shipped_orders = pd.read_csv(\"downloads/user_profiling_project/shipped_orders.csv\", sep=\",\")\n",
    "print(\"Number of datapoints:\", len(sav))\n",
    "print(\"Number of datapoints:\", len(product))\n",
    "print(\"Number of datapoints:\", len(shipped_orders))"
   ]
  },
  {
   "cell_type": "code",
   "execution_count": null,
   "id": "00f322bc",
   "metadata": {},
   "outputs": [],
   "source": [
    "sav.info()\n",
    "product.info()\n",
    "shipped_orders.info()"
   ]
  },
  {
   "cell_type": "code",
   "execution_count": null,
   "id": "6b667114",
   "metadata": {},
   "outputs": [],
   "source": [
    "sav.head()"
   ]
  },
  {
   "cell_type": "code",
   "execution_count": null,
   "id": "f4606c6e",
   "metadata": {},
   "outputs": [],
   "source": [
    "df1_merged = sav.merge(product, on = 'product_id', how='left')\n",
    "df1_merged.info()"
   ]
  },
  {
   "cell_type": "code",
   "execution_count": null,
   "id": "c5096a3b",
   "metadata": {},
   "outputs": [],
   "source": [
    "df1_merged['merchant_id'].nunique()"
   ]
  },
  {
   "cell_type": "code",
   "execution_count": null,
   "id": "bfec948b",
   "metadata": {},
   "outputs": [],
   "source": [
    "df1_merged['client_id'].nunique()"
   ]
  },
  {
   "cell_type": "code",
   "execution_count": null,
   "id": "5325603b",
   "metadata": {},
   "outputs": [],
   "source": [
    "df1_merged['orderline_id'].nunique()"
   ]
  },
  {
   "cell_type": "code",
   "execution_count": null,
   "id": "e8757b71",
   "metadata": {},
   "outputs": [],
   "source": [
    "df1_merged['SAV_id'].nunique()"
   ]
  },
  {
   "cell_type": "code",
   "execution_count": null,
   "id": "129c493b",
   "metadata": {},
   "outputs": [],
   "source": [
    "df1_merged[['merchant_id','SAV_id','orderline_id','client_id','product_id']] = df1_merged[['merchant_id','SAV_id','orderline_id','client_id','product_id']].astype(str)"
   ]
  },
  {
   "cell_type": "code",
   "execution_count": null,
   "id": "b5d4666d",
   "metadata": {},
   "outputs": [],
   "source": [
    "shipped_orders['merchant_id'].nunique()"
   ]
  },
  {
   "cell_type": "code",
   "execution_count": null,
   "id": "40003500",
   "metadata": {},
   "outputs": [],
   "source": [
    "df1_merged.info()"
   ]
  },
  {
   "cell_type": "code",
   "execution_count": null,
   "id": "a17a8185",
   "metadata": {},
   "outputs": [],
   "source": [
    "df1_merged.head()"
   ]
  },
  {
   "cell_type": "code",
   "execution_count": null,
   "id": "94c5a074",
   "metadata": {},
   "outputs": [],
   "source": [
    "print(df1_merged.columns.tolist())"
   ]
  },
  {
   "cell_type": "code",
   "execution_count": null,
   "id": "8ae76dcb",
   "metadata": {},
   "outputs": [],
   "source": [
    "df1_merged['avg_rating'] = df1_merged[['avg_rate_speed','avg_rate_kindness','avg_rate_relevance']].mean(axis=1)"
   ]
  },
  {
   "cell_type": "code",
   "execution_count": null,
   "id": "9710a47f",
   "metadata": {},
   "outputs": [],
   "source": [
    "df1_merged"
   ]
  },
  {
   "cell_type": "code",
   "execution_count": null,
   "id": "ee0c454a",
   "metadata": {},
   "outputs": [],
   "source": [
    "# starts 4-5: Positive(1), stars 1-2: Negative(3), stars 3: Neutral(2) \n",
    "def map_sentiment(rating):\n",
    "    if(float(rating)==3):\n",
    "        return 2\n",
    "    elif(float(rating) in range(1,2)):\n",
    "        return 3\n",
    "    elif(float(rating)==0):\n",
    "        return 4\n",
    "    else:\n",
    "        return 1;"
   ]
  },
  {
   "cell_type": "code",
   "execution_count": null,
   "id": "ff81316d",
   "metadata": {},
   "outputs": [],
   "source": [
    "review_sentiments=[map_sentiment(s) for s in df1_merged['avg_rating']]\n",
    "df1_merged['sentiments'] = review_sentiments"
   ]
  },
  {
   "cell_type": "code",
   "execution_count": null,
   "id": "6fc28274",
   "metadata": {},
   "outputs": [],
   "source": [
    "# starts 4-5: Positive(1), stars 1-2: Negative(3), stars 3: Neutral(2) \n",
    "def map_sentiments(sen):\n",
    "    if(int(sen)==3):\n",
    "        return \"Negative\"\n",
    "    elif(int(sen)==2):\n",
    "        return \"Neutral\"\n",
    "    elif(int(sen)==1):\n",
    "        return \"Positive\"\n",
    "    else:\n",
    "        return \"no_rating\";"
   ]
  },
  {
   "cell_type": "code",
   "execution_count": null,
   "id": "e4e131e5",
   "metadata": {},
   "outputs": [],
   "source": [
    "sentiment_name=[map_sentiments(s) for s in df1_merged['sentiments']]\n",
    "df1_merged['sentiment_name'] = sentiment_name"
   ]
  },
  {
   "cell_type": "code",
   "execution_count": null,
   "id": "321aa6b7",
   "metadata": {},
   "outputs": [],
   "source": [
    "fig = px.pie(df1_merged, values='merchant_id', names='sentiment_name',color='sentiment_name',color_discrete_map={'Neutral':'yellow','Negative':'cyan','no_rating':'red','Positive':'green'})\n",
    "fig.update_layout(\n",
    "     autosize=False,\n",
    "     title='Distribution of Review Sentiments'\n",
    "    )\n",
    "fig.show()"
   ]
  },
  {
   "cell_type": "code",
   "execution_count": null,
   "id": "b57cc1cf",
   "metadata": {},
   "outputs": [],
   "source": [
    "# stars 4-5: Positive(4-5), stars 1-2: Negative(1-2), stars 3: Neutral(3) \n",
    "def idv_sentiments(idv):\n",
    "    if(int(idv) == 1):\n",
    "        return \"Negative\"\n",
    "    elif(int(idv) == 2):\n",
    "        return \"Negative\"\n",
    "    elif(int(idv) == 3):\n",
    "        return \"Neutral\"\n",
    "    elif(int(idv) == 4):\n",
    "        return \"Positive\"\n",
    "    elif(int(idv) == 5):\n",
    "        return \"Positive\"\n",
    "    else:\n",
    "        return \"no_rating\";"
   ]
  },
  {
   "cell_type": "code",
   "execution_count": null,
   "id": "1d7431c4",
   "metadata": {},
   "outputs": [],
   "source": [
    "sentiment_speed=[idv_sentiments(i) for i in df1_merged['avg_rate_speed']]\n",
    "df1_merged['sentiment_speed'] = sentiment_speed"
   ]
  },
  {
   "cell_type": "code",
   "execution_count": null,
   "id": "51642de4",
   "metadata": {},
   "outputs": [],
   "source": [
    "fig = px.pie(df1_merged, values='merchant_id', names='sentiment_speed',color='sentiment_speed',color_discrete_map={'Neutral':'yellow','Negative':'cyan','no_rating':'red','Positive':'green'})\n",
    "fig.update_layout(\n",
    "     autosize=False,\n",
    "     title='Distribution of Speed Sentiments'\n",
    "    )\n",
    "fig.show()"
   ]
  },
  {
   "cell_type": "code",
   "execution_count": null,
   "id": "51646896",
   "metadata": {},
   "outputs": [],
   "source": [
    "sentiment_kindness=[idv_sentiments(d) for d in df1_merged['avg_rate_kindness']]\n",
    "df1_merged['sentiment_kindness'] = sentiment_kindness"
   ]
  },
  {
   "cell_type": "code",
   "execution_count": null,
   "id": "77b70cb6",
   "metadata": {},
   "outputs": [],
   "source": [
    "fig = px.pie(df1_merged, values='merchant_id', names='sentiment_kindness',color='sentiment_kindness',color_discrete_map={'Neutral':'yellow','Negative':'cyan','no_rating':'red','Positive':'green'})\n",
    "fig.update_layout(\n",
    "     autosize=False,\n",
    "     title='Distribution of Kindness Sentiments'\n",
    "    )\n",
    "fig.show()"
   ]
  },
  {
   "cell_type": "code",
   "execution_count": null,
   "id": "c8fee358",
   "metadata": {},
   "outputs": [],
   "source": [
    "sentiment_relevance=[idv_sentiments(v) for v in df1_merged['avg_rate_relevance']]\n",
    "df1_merged['sentiment_relevance'] = sentiment_relevance"
   ]
  },
  {
   "cell_type": "code",
   "execution_count": null,
   "id": "dbcc399c",
   "metadata": {},
   "outputs": [],
   "source": [
    "fig = px.pie(df1_merged, values='merchant_id', names='sentiment_relevance',color='sentiment_relevance',color_discrete_map={'Neutral':'yellow','Negative':'cyan','no_rating':'red','Positive':'green'})\n",
    "fig.update_layout(\n",
    "     autosize=False,\n",
    "     title='Distribution of Relevance Sentiments'\n",
    "    )\n",
    "fig.show()"
   ]
  },
  {
   "cell_type": "code",
   "execution_count": null,
   "id": "07a73ecf",
   "metadata": {},
   "outputs": [],
   "source": [
    "df1_merged.info()"
   ]
  },
  {
   "cell_type": "code",
   "execution_count": null,
   "id": "584f5294",
   "metadata": {},
   "outputs": [],
   "source": [
    "from matplotlib import colors\n",
    "import seaborn as sns\n",
    "from sklearn.preprocessing import LabelEncoder\n",
    "from sklearn.preprocessing import StandardScaler\n",
    "from sklearn.decomposition import PCA\n",
    "from yellowbrick.cluster import KElbowVisualizer\n",
    "from sklearn.cluster import KMeans\n",
    "import matplotlib.pyplot as plt, numpy as np\n",
    "from mpl_toolkits.mplot3d import Axes3D\n",
    "from sklearn.cluster import AgglomerativeClustering\n",
    "from matplotlib.colors import ListedColormap\n",
    "from sklearn import metrics\n",
    "import warnings\n",
    "import sys\n",
    "if not sys.warnoptions:\n",
    "    warnings.simplefilter(\"ignore\")\n",
    "np.random.seed(42)"
   ]
  },
  {
   "cell_type": "code",
   "execution_count": null,
   "id": "3972ebc3",
   "metadata": {},
   "outputs": [],
   "source": [
    "df1_merged.info()"
   ]
  },
  {
   "cell_type": "code",
   "execution_count": null,
   "id": "b81408b0",
   "metadata": {},
   "outputs": [],
   "source": [
    "da = df1_merged.copy()\n",
    "cols_del = ['avg_rate_speed', 'avg_rate_kindness', 'avg_rate_relevance','orderline_id','label_product', 'creation_date','last_message_date','sentiments','avg_rating']\n",
    "df_3 = da.drop(cols_del, axis=1)"
   ]
  },
  {
   "cell_type": "code",
   "execution_count": null,
   "id": "d4e3e735",
   "metadata": {},
   "outputs": [],
   "source": [
    "df_3.head()"
   ]
  },
  {
   "cell_type": "code",
   "execution_count": null,
   "id": "bcb08efd",
   "metadata": {},
   "outputs": [],
   "source": [
    "df_3[['label']] = df_3[['label']].fillna(\"unknown\")\n",
    "df_3[['brand ']] = df_3[['brand ']].fillna(\"unknown\")"
   ]
  },
  {
   "cell_type": "code",
   "execution_count": null,
   "id": "5f796bcc",
   "metadata": {},
   "outputs": [],
   "source": [
    "df_3.info()"
   ]
  },
  {
   "cell_type": "code",
   "execution_count": null,
   "id": "cf87d596",
   "metadata": {},
   "outputs": [],
   "source": [
    "#Get list of categorical variables\n",
    "s = (df_3.dtypes == 'object')\n",
    "object_cols = list(s[s].index)\n",
    "\n",
    "print(\"Categorical variables in the dataset:\", object_cols)"
   ]
  },
  {
   "cell_type": "code",
   "execution_count": null,
   "id": "a47c0b02",
   "metadata": {},
   "outputs": [],
   "source": [
    "#Label Encoding the object dtypes.\n",
    "LE=LabelEncoder()\n",
    "for i in object_cols:\n",
    "    df_3[i]=df_3[[i]].apply(LE.fit_transform)\n",
    "    \n",
    "print(\"All features are now numerical\")"
   ]
  },
  {
   "cell_type": "code",
   "execution_count": null,
   "id": "e8434381",
   "metadata": {},
   "outputs": [],
   "source": [
    "#Scaling\n",
    "scaler = StandardScaler()\n",
    "scaler.fit(df_3)\n",
    "scaled_df3 = pd.DataFrame(scaler.transform(df_3),columns= df_3.columns )\n",
    "print(\"All features are now scaled\")"
   ]
  },
  {
   "cell_type": "code",
   "execution_count": null,
   "id": "3a09e7fb",
   "metadata": {},
   "outputs": [],
   "source": [
    "scaled_df3.head()"
   ]
  },
  {
   "cell_type": "code",
   "execution_count": null,
   "id": "012cfe53",
   "metadata": {},
   "outputs": [],
   "source": [
    "#Initiating PCA to reduce dimentions aka features to 3\n",
    "pca = PCA(n_components=3)\n",
    "pca.fit(scaled_df3)\n",
    "PCA_df3 = pd.DataFrame(pca.transform(scaled_df3), columns=([\"col1\",\"col2\", \"col3\"]))\n",
    "PCA_df3.describe().T"
   ]
  },
  {
   "cell_type": "code",
   "execution_count": null,
   "id": "42607945",
   "metadata": {},
   "outputs": [],
   "source": [
    "#A 3D Projection Of Data In The Reduced Dimension\n",
    "x =PCA_df3[\"col1\"]\n",
    "y =PCA_df3[\"col2\"]\n",
    "z =PCA_df3[\"col3\"]\n",
    "#To plot\n",
    "fig = plt.figure(figsize=(10,8))\n",
    "ax = fig.add_subplot(111, projection=\"3d\")\n",
    "ax.scatter(x,y,z, c=\"maroon\", marker=\"o\" )\n",
    "ax.set_title(\"A 3D Projection Of Data In The Reduced Dimension\")\n",
    "plt.show()"
   ]
  },
  {
   "cell_type": "code",
   "execution_count": null,
   "id": "1a09dd00",
   "metadata": {},
   "outputs": [],
   "source": [
    "# Quick examination of elbow method to find numbers of clusters to make.\n",
    "print('Elbow Method to determine the number of clusters to be formed:')\n",
    "Elbow_M = KElbowVisualizer(KMeans(), k=10)\n",
    "Elbow_M.fit(PCA_df3)\n",
    "Elbow_M.show()"
   ]
  },
  {
   "cell_type": "code",
   "execution_count": null,
   "id": "2dfd1de6",
   "metadata": {},
   "outputs": [],
   "source": [
    "#Initiating the Agglomerative Clustering model \n",
    "AC = AgglomerativeClustering(n_clusters=5)\n",
    "# fit model and predict clusters\n",
    "yhat_AC = AC.fit_predict(PCA_df3)\n",
    "PCA_df3[\"Clusters\"] = yhat_AC\n",
    "#Adding the Clusters feature to the orignal dataframe.\n",
    "df_3[\"Clusters\"]= yhat_AC"
   ]
  },
  {
   "cell_type": "code",
   "execution_count": null,
   "id": "d01ea9e4",
   "metadata": {},
   "outputs": [],
   "source": [
    "#Plotting the clusters\n",
    "fig = plt.figure(figsize=(10,8))\n",
    "ax = plt.subplot(111, projection='3d', label=\"bla\")\n",
    "ax.scatter(x, y, z, s=40, c=PCA_df3[\"Clusters\"], marker='o', cmap = cmap )\n",
    "ax.set_title(\"The Plot Of The Clusters\")\n",
    "plt.show()"
   ]
  },
  {
   "cell_type": "code",
   "execution_count": null,
   "id": "9c48b28a",
   "metadata": {},
   "outputs": [],
   "source": []
  }
 ],
 "metadata": {
  "kernelspec": {
   "display_name": "Python 3 (ipykernel)",
   "language": "python",
   "name": "python3"
  },
  "language_info": {
   "codemirror_mode": {
    "name": "ipython",
    "version": 3
   },
   "file_extension": ".py",
   "mimetype": "text/x-python",
   "name": "python",
   "nbconvert_exporter": "python",
   "pygments_lexer": "ipython3",
   "version": "3.9.7"
  }
 },
 "nbformat": 4,
 "nbformat_minor": 5
}
